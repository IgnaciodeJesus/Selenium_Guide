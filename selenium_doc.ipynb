{
 "cells": [
  {
   "cell_type": "markdown",
   "metadata": {},
   "source": [
    "Install Selenium"
   ]
  },
  {
   "cell_type": "code",
   "execution_count": 1,
   "metadata": {},
   "outputs": [
    {
     "name": "stdout",
     "output_type": "stream",
     "text": [
      "Defaulting to user installation because normal site-packages is not writeable\n",
      "Note: you may need to restart the kernel to use updated packages.\n"
     ]
    },
    {
     "name": "stderr",
     "output_type": "stream",
     "text": [
      "ERROR: Invalid requirement: '#'\n",
      "\n",
      "[notice] A new release of pip is available: 23.3.1 -> 24.0\n",
      "[notice] To update, run: python.exe -m pip install --upgrade pip\n"
     ]
    }
   ],
   "source": [
    "pip install selenium # Currently version instaled is 4.19"
   ]
  },
  {
   "cell_type": "markdown",
   "metadata": {},
   "source": [
    "Sample Code"
   ]
  },
  {
   "cell_type": "code",
   "execution_count": 3,
   "metadata": {},
   "outputs": [
    {
     "name": "stdout",
     "output_type": "stream",
     "text": [
      "Web form\n"
     ]
    }
   ],
   "source": [
    "from selenium import webdriver\n",
    "from selenium.webdriver.common.by import By\n",
    "import time\n",
    "from selenium.common import NoSuchElementException, ElementNotInteractableException\n",
    "from selenium.webdriver.support.wait import WebDriverWait\n",
    "\n",
    "# Start Session\n",
    "driver = webdriver.Chrome()\n",
    "# Open URL\n",
    "driver.get(\"https://www.selenium.dev/selenium/web/web-form.html\")\n",
    "# Request information (there are different sources of information to get the data)\n",
    "title = driver.title\n",
    "print(title)\n"
   ]
  },
  {
   "cell_type": "markdown",
   "metadata": {},
   "source": [
    "Waiting Methods"
   ]
  },
  {
   "cell_type": "code",
   "execution_count": null,
   "metadata": {},
   "outputs": [],
   "source": [
    "# Add waiting time method (there are different ways to do it)\n",
    "# Why is it important to add waiting time?\n",
    "# Because the page may not load completely and the information may not be available (causing the script to fail)"
   ]
  },
  {
   "cell_type": "markdown",
   "metadata": {},
   "source": [
    "1.- Static Method ( using time.sleep() )"
   ]
  },
  {
   "cell_type": "code",
   "execution_count": 13,
   "metadata": {},
   "outputs": [
    {
     "name": "stdout",
     "output_type": "stream",
     "text": [
      "Element is displayed\n",
      "Error:\n",
      "Element bluebox is not displayed\n"
     ]
    }
   ],
   "source": [
    "import pytest\n",
    "import time\n",
    "from selenium.common import NoSuchElementException, ElementNotInteractableException\n",
    "from selenium.webdriver.common.by import By\n",
    "from selenium.webdriver.support.wait import WebDriverWait\n",
    "# Start Session\n",
    "driver = webdriver.Chrome()\n",
    "driver.get('https://www.selenium.dev/selenium/web/dynamic.html')\n",
    "\n",
    "# Find the element by the \"id\" value and click on it\n",
    "time.sleep(5)\n",
    "driver.find_element(By.ID, \"adder\").click()\n",
    "time.sleep(5)\n",
    "\n",
    "# Find the element by the \"id\" value\n",
    "added = driver.find_element(By.ID, \"box0\")\n",
    "# Verify the element is displayed\n",
    "assert added.get_dom_attribute('class') == \"redbox\"\n",
    "\n",
    "if added.get_dom_attribute('class') == \"redbox\":\n",
    "    print(\"Element is displayed\")\n",
    "else:\n",
    "    print(\"Element is not displayed\")\n",
    "\n",
    "time.sleep(3)\n",
    "\n",
    "# Uncomment the line below to see the error message\n",
    "#assert added.get_dom_attribute('class') == \"bluebox\"\n",
    "\n",
    "time.sleep(3)\n",
    "\n",
    "# Using try and except to handle the exceptions is a good practice to avoid the script from failing and to continue the execution\n",
    "# It's not necesary to use finally, but it's a good practice to close the browser after the execution of the script\n",
    "try:\n",
    "    assert added.get_dom_attribute('class') == \"bluebox\"\n",
    "except AssertionError:\n",
    "    print(\"Error:\")\n",
    "    print(\"Element bluebox is not displayed\")\n",
    "finally:\n",
    "    driver.quit() # Close the browser"
   ]
  },
  {
   "cell_type": "markdown",
   "metadata": {},
   "source": [
    "2.- Implicit Method"
   ]
  },
  {
   "cell_type": "code",
   "execution_count": null,
   "metadata": {},
   "outputs": [],
   "source": [
    "# 2 - Implicit wait \n",
    "\n",
    "# If an implicit wait is set, the driver will wait for the duration of the provided value before returning the error. \n",
    "# Note that as soon as the element is located, the driver will return the element reference and the code will continue executing,\n",
    "# so a larger implicit wait value won’t necessarily increase the duration of the session.\n",
    "\n",
    "# Básicamente, se espera el tiempo indicado hasta que el elemento este listo (en este caso el driver osea la pagina entera), \n",
    "# Si se pasa y no esta listo = Error / Si se obtiene antes del tiempo estimado = Continua sin esperar"
   ]
  },
  {
   "cell_type": "code",
   "execution_count": 14,
   "metadata": {},
   "outputs": [
    {
     "name": "stdout",
     "output_type": "stream",
     "text": [
      "Element is displayed\n",
      "Error:\n",
      "Element bluebox is not displayed\n"
     ]
    }
   ],
   "source": [
    "import pytest\n",
    "import time\n",
    "from selenium.common import NoSuchElementException, ElementNotInteractableException\n",
    "from selenium.webdriver.common.by import By\n",
    "from selenium.webdriver.support.wait import WebDriverWait\n",
    "# Start Session\n",
    "driver = webdriver.Chrome()\n",
    "driver.get('https://www.selenium.dev/selenium/web/dynamic.html')\n",
    "\n",
    "# Find the element by the \"id\" value and click on it\n",
    "driver.implicitly_wait(5)\n",
    "driver.find_element(By.ID, \"adder\").click()\n",
    "driver.implicitly_wait(5)\n",
    "\n",
    "# Find the element by the \"id\" value\n",
    "added = driver.find_element(By.ID, \"box0\")\n",
    "# Verify the element is displayed\n",
    "assert added.get_dom_attribute('class') == \"redbox\"\n",
    "\n",
    "if added.get_dom_attribute('class') == \"redbox\":\n",
    "    print(\"Element is displayed\")\n",
    "else:\n",
    "    print(\"Element is not displayed\")\n",
    "\n",
    "driver.implicitly_wait(3)\n",
    "\n",
    "# Uncomment the line below to see the error message\n",
    "#assert added.get_dom_attribute('class') == \"bluebox\"\n",
    "\n",
    "driver.implicitly_wait(3)\n",
    "\n",
    "# Using try and except to handle the exceptions is a good practice to avoid the script from failing and to continue the execution\n",
    "# It's not necesary to use finally, but it's a good practice to close the browser after the execution of the script\n",
    "try:\n",
    "    assert added.get_dom_attribute('class') == \"bluebox\"\n",
    "except AssertionError:\n",
    "    print(\"Error:\")\n",
    "    print(\"Element bluebox is not displayed\")\n",
    "finally:\n",
    "    driver.quit() # Close the browser"
   ]
  },
  {
   "cell_type": "markdown",
   "metadata": {},
   "source": [
    "3.- Explicit Method"
   ]
  },
  {
   "cell_type": "code",
   "execution_count": null,
   "metadata": {},
   "outputs": [],
   "source": [
    "# 3 - Explicit wait\n",
    "\n",
    "# Explicit waits are loops added to the code that poll the application for a specific condition to evaluate as true before it exits\n",
    "# the loop and continues to the next command in the code. If the condition is not met before a designated timeout value, \n",
    "# the code will give a timeout error. \n",
    "\n",
    "# Basicamente espera hasta que se cumpla la condicion que se le indique,\n",
    "# Si no se cumple en el tiempo estimado = Error / Si se cumple antes = Continua sin esperar"
   ]
  },
  {
   "cell_type": "code",
   "execution_count": 18,
   "metadata": {},
   "outputs": [],
   "source": [
    "import pytest\n",
    "import time\n",
    "from selenium.common import NoSuchElementException, ElementNotInteractableException\n",
    "from selenium.webdriver.common.by import By\n",
    "from selenium.webdriver.support.wait import WebDriverWait\n",
    "# Start Session\n",
    "driver = webdriver.Chrome()\n",
    "driver.get('https://www.selenium.dev/selenium/web/dynamic.html')\n",
    "\n",
    "# Uncomment the lines below to see the error message\n",
    "\n",
    "\"\"\"\n",
    "revealed = driver.find_element(By.ID, \"revealed\")\n",
    "\n",
    "wait = WebDriverWait(driver, timeout=2)\n",
    "# Outputs an error because the element is not displayed yet (we need to click on the button first to display it)\n",
    "wait.until(lambda d : revealed.is_displayed())\n",
    "\n",
    "\"\"\"\n",
    "\n",
    "# Find the element by the \"id\" value and click on it (button reveal)\n",
    "driver.find_element(By.ID, \"reveal\").click()\n",
    "\n",
    "revealed = driver.find_element(By.ID, \"revealed\")\n",
    "\n",
    "wait = WebDriverWait(driver, timeout=2)\n",
    "wait.until(lambda d : revealed.is_displayed())\n",
    "\n",
    "revealed.send_keys(\"Displayed\")\n",
    "assert revealed.get_property(\"value\") == \"Displayed\"\n",
    "time.sleep(5)\n",
    "driver.quit()"
   ]
  }
 ],
 "metadata": {
  "kernelspec": {
   "display_name": "Python 3",
   "language": "python",
   "name": "python3"
  },
  "language_info": {
   "codemirror_mode": {
    "name": "ipython",
    "version": 3
   },
   "file_extension": ".py",
   "mimetype": "text/x-python",
   "name": "python",
   "nbconvert_exporter": "python",
   "pygments_lexer": "ipython3",
   "version": "3.11.5"
  }
 },
 "nbformat": 4,
 "nbformat_minor": 2
}
